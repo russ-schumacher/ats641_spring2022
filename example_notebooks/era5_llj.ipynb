{
 "cells": [
  {
   "cell_type": "markdown",
   "id": "84923599",
   "metadata": {},
   "source": [
    "## Notebook that demonstrates requesting ERA5 data from the ECWMF Climate Data Store, and plotting a basic map of the low-level jet\n",
    "\n",
    "### If you haven't obtained data from ECWMF CDS before, here are some instructions to make an account and set things up on your computer: https://cds.climate.copernicus.eu/api-how-to"
   ]
  },
  {
   "cell_type": "markdown",
   "id": "2c7b7f47",
   "metadata": {},
   "source": [
    "#### Imports"
   ]
  },
  {
   "cell_type": "code",
   "execution_count": null,
   "id": "c8fed365",
   "metadata": {},
   "outputs": [],
   "source": [
    "import cartopy.crs as ccrs\n",
    "import cartopy.feature as cfeature\n",
    "import matplotlib.gridspec as gridspec\n",
    "import matplotlib.pylab as plt\n",
    "import metpy.calc as mpcalc\n",
    "from metpy.units import units\n",
    "from metpy.plots import ctables\n",
    "import numpy as np\n",
    "import scipy.ndimage as ndimage\n",
    "import xarray as xr\n",
    "import matplotlib.colors as mcolors\n",
    "import os\n",
    "import pandas as pd\n",
    "\n",
    "### you may not yet have these packages installed in your environment, so may need to install them now.\n",
    "### For example, after activating your ats641_2022 environment, 'conda install -c conda-forge cdsapi fsspec'\n",
    "import cdsapi\n",
    "import fsspec"
   ]
  },
  {
   "cell_type": "markdown",
   "id": "dfce92f8",
   "metadata": {},
   "source": [
    "### Define the date to plot"
   ]
  },
  {
   "cell_type": "code",
   "execution_count": null,
   "id": "0d0f08e3",
   "metadata": {},
   "outputs": [],
   "source": [
    "date = pd.Timestamp(2015,6,3)"
   ]
  },
  {
   "cell_type": "markdown",
   "id": "37f89b75",
   "metadata": {},
   "source": [
    "### get data from the ECMWF API. We'll get basic fields at 850 and 900 mb. Right now this is set to just get all 24 hours from the day before the time specified through the day after, but this can be adjusted. (If your date is at the beginning or end of month, you may need to adjust manually.) \n",
    "\n",
    "\n",
    "### Usually the data will be obtained very quickly, but sometimes there will be a wait in the queue if the ECMWF system is busy.\n"
   ]
  },
  {
   "cell_type": "code",
   "execution_count": null,
   "id": "ec689436",
   "metadata": {},
   "outputs": [],
   "source": [
    "date_m1 = date - pd.Timedelta(days=1)\n",
    "date_p1 = date + pd.Timedelta(days=1)\n",
    "\n",
    "## get the data from ECMWF API\n",
    "## instead of downloading it, read it directly\n",
    "## based on: https://nbviewer.jupyter.org/github/pangeo-data/pangeo-era5/blob/master/lazy_loading_expts.ipynb\n",
    "\n",
    "#######pressure levels\n",
    "c1 = cdsapi.Client()\n",
    "name = 'reanalysis-era5-pressure-levels'\n",
    "request = {\n",
    "        'product_type': 'reanalysis',\n",
    "        'format': 'netcdf',\n",
    "        'variable': [\n",
    "            'geopotential', 'relative_humidity', 'temperature',\n",
    "            'u_component_of_wind', 'v_component_of_wind',\n",
    "        ],\n",
    "        'pressure_level': [\n",
    "            '850','900',\n",
    "        ],\n",
    "        'year': date.year,\n",
    "        'month': date.month,\n",
    "        'day': [date_m1.day, date.day, date_p1.day],\n",
    "        'time': [\n",
    "                '00:00', '01:00', '02:00',\n",
    "                '03:00', '04:00', '05:00',\n",
    "                '06:00', '07:00', '08:00',\n",
    "                '09:00', '10:00', '11:00',\n",
    "                '12:00', '13:00', '14:00',\n",
    "                '15:00', '16:00', '17:00',\n",
    "                '18:00', '19:00', '20:00',\n",
    "                '21:00', '22:00', '23:00',\n",
    "            ],\n",
    "        'area'          : [60.,230, 20., 290.] #N,W,S,E\n",
    "}\n",
    "r1 = c1.retrieve(name, request, None)\n",
    "\n",
    "with fsspec.open(r1.location) as f1:\n",
    "    data = xr.open_dataset(f1, engine='scipy')\n",
    "    \n",
    "    \n",
    "#######also get the surface pressure\n",
    "c2 = cdsapi.Client()\n",
    "name = 'reanalysis-era5-single-levels'\n",
    "request = {\n",
    "        'product_type': 'reanalysis',\n",
    "        'format': 'netcdf',\n",
    "        'variable': [\n",
    "            'surface_pressure',\n",
    "        ],\n",
    "        'year': date.year,\n",
    "        'month': date.month,\n",
    "        'day': [date_m1.day, date.day, date_p1.day],\n",
    "        'time': [\n",
    "                '00:00', '01:00', '02:00',\n",
    "                '03:00', '04:00', '05:00',\n",
    "                '06:00', '07:00', '08:00',\n",
    "                '09:00', '10:00', '11:00',\n",
    "                '12:00', '13:00', '14:00',\n",
    "                '15:00', '16:00', '17:00',\n",
    "                '18:00', '19:00', '20:00',\n",
    "                '21:00', '22:00', '23:00',\n",
    "            ],\n",
    "        'area'          : [60.,230, 20., 290.] #N,W,S,E\n",
    "}\n",
    "r2 = c2.retrieve(name, request, None)\n",
    "\n",
    "with fsspec.open(r2.location) as f2:\n",
    "    data_sfc = xr.open_dataset(f2, engine='scipy')\n",
    "    "
   ]
  },
  {
   "cell_type": "markdown",
   "id": "2115142b",
   "metadata": {},
   "source": [
    "Check out what's in the data"
   ]
  },
  {
   "cell_type": "code",
   "execution_count": null,
   "id": "cde08f90",
   "metadata": {},
   "outputs": [],
   "source": [
    "#data\n",
    "data_sfc"
   ]
  },
  {
   "cell_type": "markdown",
   "id": "fea62114",
   "metadata": {},
   "source": [
    "### Do some smoothing of the 900-hPa data"
   ]
  },
  {
   "cell_type": "code",
   "execution_count": null,
   "id": "aed130d4",
   "metadata": {},
   "outputs": [],
   "source": [
    "### ERA5 data comes as geopotential, convert it to geopotential height\n",
    "hght_900 = (data['z'].sel(level=900))/9.81\n",
    "hght_900 = mpcalc.smooth_n_point(hght_900, 9) ## more aggressive smoothing of height\n",
    "uwnd_900 = mpcalc.smooth_n_point(data['u'].sel(level=900), 5)\n",
    "vwnd_900 = mpcalc.smooth_n_point(data['v'].sel(level=900), 5)\n",
    "tmpk_900 = mpcalc.smooth_n_point(data['t'].sel(level=900), 5)\n",
    "\n",
    "tmpc_900 = tmpk_900.metpy.convert_units(\"degC\")\n",
    "wspd_900 = mpcalc.wind_speed(uwnd_900,vwnd_900)"
   ]
  },
  {
   "cell_type": "code",
   "execution_count": null,
   "id": "ed9322d4",
   "metadata": {},
   "outputs": [],
   "source": [
    "wspd_900"
   ]
  },
  {
   "cell_type": "markdown",
   "id": "742ff4a1",
   "metadata": {},
   "source": [
    "### And plot the map (looping over hours)"
   ]
  },
  {
   "cell_type": "code",
   "execution_count": null,
   "id": "518f6fd5",
   "metadata": {},
   "outputs": [],
   "source": [
    "n_hours = uwnd_900.shape[0]\n",
    "\n",
    "# Set Projection of Data\n",
    "datacrs = ccrs.PlateCarree()\n",
    "\n",
    "# Set Projection of Plot\n",
    "plotcrs = ccrs.LambertConformal(central_latitude=45, central_longitude=-100)\n",
    "\n",
    "#for tt in range(0,n_hours):  ## loop over times\n",
    "for tt in range(0,1):\n",
    "    \n",
    "    vtime = pd.Timestamp(wspd_900[tt,:,:].time.values)\n",
    "    print(vtime)\n",
    "\n",
    "    fig = plt.figure(1, figsize=(20,16))\n",
    "    gs = gridspec.GridSpec(2, 1, height_ratios=[1, .02], bottom=.07, top=.99,\n",
    "                           hspace=0.01, wspace=0.01)\n",
    "    ax = plt.subplot(gs[0], projection=plotcrs)\n",
    "\n",
    "    # Plot Titles\n",
    "    plt.title(r'GFS analysis 900-hPa heights and wind speed',\n",
    "              loc='left', fontsize=18)\n",
    "    plt.title(vtime.strftime(\"%H%M UTC %d %b %Y\"), loc='right', fontsize=18)\n",
    "\n",
    "    # Plot Background\n",
    "    #ax.set_extent([217.5, 290., 18., 66.])\n",
    "    ax.set_extent([242., 281., 21., 51.])\n",
    "    ax.coastlines('50m', edgecolor='black', linewidth=0.75, zorder=10)\n",
    "    ax.add_feature(cfeature.STATES, linewidth=.5, zorder=11)\n",
    "\n",
    "    # Plot Height Contours\n",
    "    clev900 = np.arange(0,3001,30)\n",
    "    cs = ax.contour(data.longitude, data.latitude, hght_900[tt,:,:], clev900, colors='black', linewidths=2,\n",
    "                    linestyles='solid', transform=ccrs.PlateCarree())\n",
    "    plt.clabel(cs, fontsize=12, inline=1, inline_spacing=10, fmt='%i',\n",
    "               rightside_up=True, use_clabeltext=True)\n",
    "\n",
    "    # Plot colorfill and dashed contours of 900-hPa wind speed\n",
    "    clevs_900_wspd = np.arange(6,25,1)\n",
    "    cf = ax.contourf(data.longitude, data.latitude, wspd_900[tt,:,:], clevs_900_wspd, alpha=0.9,\n",
    "                     cmap=plt.cm.Oranges, extend='max', transform=datacrs)\n",
    "    cb = plt.colorbar(cf, orientation='horizontal', pad=0.01, aspect=50, shrink=0.9)\n",
    "    cb.set_label('wind speed (m/s)', fontsize=14)\n",
    "    cb.ax.tick_params(labelsize=14)\n",
    "\n",
    "    # Plot Wind Barbs\n",
    "    # Transform Vectors and plot wind barbs.\n",
    "    wind_slice = slice(None, None, 6)\n",
    "    ax.barbs(uwnd_900.longitude[wind_slice], uwnd_900.latitude[wind_slice], uwnd_900[tt,wind_slice,wind_slice].metpy.convert_units('kt').values, \n",
    "             vwnd_900[tt,wind_slice,wind_slice].metpy.convert_units('kt').values, \n",
    "             length=8, linewidth=1,pivot='middle', transform=ccrs.PlateCarree())\n",
    "    \n",
    "    ### and mask out the area that's underground\n",
    "    cf2 = ax.contourf(data.longitude,data.latitude,data_sfc.sp[tt,:,:]/100., [0,900.],\n",
    "                     colors=['lightgray'], zorder=4, transform=ccrs.PlateCarree())\n",
    "\n",
    "    #outfile=\"900wspd_era5_\"+vtime.strftime('%Y%m%d')+\"_\"+vtime.strftime('%H%M')+\".png\"\n",
    "    #fig.savefig(outfile, dpi=255, bbox_inches='tight', transparent=False, facecolor='white')\n",
    "    #os.system(\"mv \"+outfile+\" \"+case_date+\"/.\")\n",
    "    plt.show()\n",
    "\n",
    "    plt.close('all')"
   ]
  },
  {
   "cell_type": "code",
   "execution_count": null,
   "id": "a491e673",
   "metadata": {},
   "outputs": [],
   "source": []
  },
  {
   "cell_type": "code",
   "execution_count": null,
   "id": "0f034640",
   "metadata": {},
   "outputs": [],
   "source": []
  }
 ],
 "metadata": {
  "kernelspec": {
   "display_name": "Python 3 (ipykernel)",
   "language": "python",
   "name": "python3"
  },
  "language_info": {
   "codemirror_mode": {
    "name": "ipython",
    "version": 3
   },
   "file_extension": ".py",
   "mimetype": "text/x-python",
   "name": "python",
   "nbconvert_exporter": "python",
   "pygments_lexer": "ipython3",
   "version": "3.8.12"
  }
 },
 "nbformat": 4,
 "nbformat_minor": 5
}
