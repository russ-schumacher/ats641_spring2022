{
 "cells": [
  {
   "cell_type": "markdown",
   "id": "1042242e",
   "metadata": {},
   "source": [
    "500 hPa Vorticity Advection\n",
    "===========================\n",
    "\n",
    "Plot an 500-hPa map with calculating vorticity advection using MetPy calculations.\n",
    "\n",
    "Use Xarray module to read in model data from nomads server. Beyond just plotting 500-hPa level data, this uses calculations from `metpy.calc` to find the vorticity and vorticity advection. \n",
    "\n",
    "Adapted from: https://unidata.github.io/python-training/gallery/500hpa_vorticity_advection/ and https://unidata.github.io/python-training/gallery/xarray_500hpa_map/"
   ]
  },
  {
   "cell_type": "markdown",
   "id": "4ea31536",
   "metadata": {},
   "source": [
    "Imports"
   ]
  },
  {
   "cell_type": "code",
   "execution_count": null,
   "id": "86ce6c56",
   "metadata": {},
   "outputs": [],
   "source": [
    "from datetime import datetime\n",
    "\n",
    "import cartopy.crs as ccrs\n",
    "import cartopy.feature as cfeature\n",
    "import matplotlib.pyplot as plt\n",
    "import matplotlib.gridspec as gridspec\n",
    "\n",
    "import numpy as np\n",
    "import xarray as xr\n",
    "import pandas as pd\n",
    "\n",
    "import metpy.calc as mpcalc\n",
    "from metpy.units import units"
   ]
  },
  {
   "cell_type": "markdown",
   "id": "75d8b40c",
   "metadata": {},
   "source": [
    "Accessing GFS analysis data from a remote server using Xarray\n",
    "---------------------------\n",
    "\n",
    "This is very useful because you don't need to download files locally! Instead, you can access the data on a remote THREDDS server, saving work and disk space."
   ]
  },
  {
   "cell_type": "code",
   "execution_count": null,
   "id": "18086770",
   "metadata": {},
   "outputs": [],
   "source": [
    "# Specify our date/time of product desired\n",
    "dt = datetime(2021, 12, 11, 6)  ## year, month, day, hour, minute, second\n",
    "\n",
    "archived = True ### is this an old time (more than ~1 month ago), where we need to get from NCEI?\n",
    "\n",
    "if archived==True:\n",
    "    #########for archived data, use NCEI below:\n",
    "    base_url = \"https://www.ncei.noaa.gov/thredds/dodsC/model-gfs-g4-anl-files/\"\n",
    "    data = xr.open_dataset(f'{base_url}{dt:%Y%m}/{dt:%Y%m%d}/'\n",
    "                           f'gfs_4_{dt:%Y%m%d}_{dt:%H}00_000.grb2',\n",
    "                           decode_times=True)\n",
    "\n",
    "else:\n",
    "    ########### for near-real-time data, use unidata thredds\n",
    "    base_url = \"https://thredds.ucar.edu/thredds/dodsC/grib/NCEP/GFS/Global_0p5deg_ana/\"\n",
    "    data = xr.open_dataset(f'{base_url}GFS_Global_0p5deg_ana_{dt:%Y%m%d}_{dt:%H}00.grib2',\n",
    "                           decode_times=True)\n",
    "\n"
   ]
  },
  {
   "cell_type": "markdown",
   "id": "6ab3460e",
   "metadata": {},
   "source": [
    "Get the time in the data file as a pandas datetime"
   ]
  },
  {
   "cell_type": "code",
   "execution_count": null,
   "id": "04f58b7b",
   "metadata": {},
   "outputs": [],
   "source": [
    "vtime = pd.to_datetime(data.time)[0]\n",
    "vtime\n"
   ]
  },
  {
   "cell_type": "markdown",
   "id": "5b388ec1",
   "metadata": {},
   "source": [
    "Get relevant variables, parse them"
   ]
  },
  {
   "cell_type": "code",
   "execution_count": null,
   "id": "14bd6be0",
   "metadata": {},
   "outputs": [],
   "source": [
    "data_subset = data.metpy.parse_cf([\n",
    "    'u-component_of_wind_isobaric',\n",
    "    'v-component_of_wind_isobaric',\n",
    "    'Geopotential_height_isobaric'\n",
    "]).sel(time=vtime).squeeze()\n",
    "\n",
    "## subset to North America\n",
    "data_subset = data_subset.sel(lon=slice(205,310.), lat=slice(68.,18.))    \n",
    "\n",
    "## define lat and lon variables for convenience\n",
    "lat = data_subset.lat\n",
    "lon = data_subset.lon"
   ]
  },
  {
   "cell_type": "markdown",
   "id": "129ffd72",
   "metadata": {},
   "source": [
    "Inspect data:"
   ]
  },
  {
   "cell_type": "code",
   "execution_count": null,
   "id": "a6888b33",
   "metadata": {},
   "outputs": [],
   "source": [
    "data_subset"
   ]
  },
  {
   "cell_type": "markdown",
   "id": "d38a2902",
   "metadata": {},
   "source": [
    "Get 500-hPa fields, smooth, and calculate vorticity\n",
    "----------------------"
   ]
  },
  {
   "cell_type": "code",
   "execution_count": null,
   "id": "8a08928d",
   "metadata": {},
   "outputs": [],
   "source": [
    "### bring in 500-hPa height, smooth it\n",
    "hght_500 = data_subset['Geopotential_height_isobaric'].metpy.sel(vertical=500*units.hPa)\n",
    "uwnd_500 = data_subset['u-component_of_wind_isobaric'].metpy.sel(vertical=500*units.hPa)\n",
    "vwnd_500 = data_subset['v-component_of_wind_isobaric'].metpy.sel(vertical=500*units.hPa)\n",
    "\n",
    "## smooth the height field with a 5-point smoother\n",
    "hght_500 = mpcalc.smooth_n_point(hght_500, 5)\n",
    "### calculate absolute vorticity with metpy and use 9-point smoother on the output (more aggressive smoothing)\n",
    "avor_500 = mpcalc.smooth_n_point(mpcalc.absolute_vorticity(uwnd_500, vwnd_500),9)\n",
    "\n",
    "### and calculate the advection and multiply by 10^9\n",
    "vort_adv = mpcalc.advection(avor_500, u=uwnd_500, v=vwnd_500) * 1e9\n"
   ]
  },
  {
   "cell_type": "markdown",
   "id": "f0083c71",
   "metadata": {},
   "source": [
    "And make the map\n",
    "---------------"
   ]
  },
  {
   "cell_type": "code",
   "execution_count": null,
   "id": "0309a209",
   "metadata": {},
   "outputs": [],
   "source": [
    "# Set Projection of Data\n",
    "datacrs = ccrs.PlateCarree()\n",
    "\n",
    "# Set Projection of Plot\n",
    "plotcrs = ccrs.LambertConformal(central_latitude=45, central_longitude=-100)\n",
    "\n",
    "fig = plt.figure(1, figsize=(20,16))\n",
    "gs = gridspec.GridSpec(2, 1, height_ratios=[1, .02], bottom=.07, top=.99,\n",
    "                       hspace=0.01, wspace=0.01)\n",
    "ax = plt.subplot(gs[0], projection=plotcrs)\n",
    "\n",
    "# Plot Titles\n",
    "plt.title(r'GFS analysis 500-hPa Heights (m), AVOR$*10^5$ ($s^{-1}$), AVOR Adv$*10^8$ ($s^{-2}$)',\n",
    "          loc='left', fontsize=18)\n",
    "plt.title(vtime.strftime(\"%H%M UTC %d %b %Y\"), loc='right', fontsize=18)\n",
    "\n",
    "# Plot Background\n",
    "#ax.set_extent([217.5, 290., 18., 66.])\n",
    "ax.set_extent([227.5, 290., 20., 56.])\n",
    "ax.coastlines('50m', edgecolor='black', linewidth=0.75)\n",
    "ax.add_feature(cfeature.STATES, linewidth=.5)\n",
    "\n",
    "# Plot Height Contours\n",
    "clev500 = np.arange(5100, 6061, 60)\n",
    "cs = ax.contour(lon, lat, hght_500, clev500, colors='black', linewidths=1.0,\n",
    "                linestyles='solid', transform=ccrs.PlateCarree())\n",
    "plt.clabel(cs, fontsize=10, inline=1, inline_spacing=10, fmt='%i',\n",
    "           rightside_up=True, use_clabeltext=True)\n",
    "\n",
    "# Plot Absolute Vorticity Contours, multiply by 10^5 for appropriate scaling\n",
    "clevvort500 = np.arange(-9, 50, 5)\n",
    "cs2 = ax.contour(lon, lat, avor_500*1e5, clevvort500, colors='grey',\n",
    "                 linewidths=1.25, linestyles='dashed', transform=ccrs.PlateCarree())\n",
    "plt.clabel(cs2, fontsize=10, inline=1, inline_spacing=10, fmt='%i',\n",
    "           rightside_up=True, use_clabeltext=True)\n",
    "\n",
    "# Plot Colorfill of Vorticity Advection\n",
    "clev_avoradv = np.arange(-30, 31, 5)\n",
    "cf = ax.contourf(lon, lat, vort_adv, clev_avoradv[clev_avoradv != 0], extend='both',\n",
    "                 cmap='bwr', transform=ccrs.PlateCarree())\n",
    "#cax = plt.subplot(gs[1])\n",
    "cb = plt.colorbar(cf, orientation='horizontal', ticks=clev_avoradv,\n",
    "                 shrink=0.9, pad=0.02, aspect=35)\n",
    "cb.set_label(r'$1/s^2$', size='large')\n",
    "\n",
    "# Plot Wind Barbs\n",
    "# Transform Vectors and plot wind barbs.\n",
    "ax.barbs(lon, lat, uwnd_500.values, vwnd_500.values, length=6, regrid_shape=20,\n",
    "         pivot='middle', transform=ccrs.PlateCarree())\n",
    "\n",
    "### uncomment these if you'd like to save a file\n",
    "#outfile=\"500vort_gfs_\"+vtime.strftime('%Y%m%d')+\"_\"+vtime.strftime('%H%M')+\".png\"\n",
    "#fig.savefig(outfile, dpi=255, bbox_inches='tight', transparent=False, facecolor='white')\n",
    "\n",
    "plt.show()   ### show in the notebook\n",
    "\n",
    "plt.close('all')"
   ]
  },
  {
   "cell_type": "code",
   "execution_count": null,
   "id": "a19895ea",
   "metadata": {},
   "outputs": [],
   "source": []
  }
 ],
 "metadata": {
  "kernelspec": {
   "display_name": "Python 3 (ipykernel)",
   "language": "python",
   "name": "python3"
  },
  "language_info": {
   "codemirror_mode": {
    "name": "ipython",
    "version": 3
   },
   "file_extension": ".py",
   "mimetype": "text/x-python",
   "name": "python",
   "nbconvert_exporter": "python",
   "pygments_lexer": "ipython3",
   "version": "3.8.12"
  }
 },
 "nbformat": 4,
 "nbformat_minor": 5
}
