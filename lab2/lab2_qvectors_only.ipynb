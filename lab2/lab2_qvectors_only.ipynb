{
 "cells": [
  {
   "cell_type": "code",
   "execution_count": null,
   "metadata": {},
   "outputs": [],
   "source": [
    "## smooth height as before:\n",
    "hght_700 = mpcalc.smooth_n_point(hght_700, 5)\n",
    "\n",
    "### smooth everything else pretty heavily:\n",
    "temp_700 = mpcalc.smooth_gaussian(temp_700, 12) \n",
    "uwnd_700 = mpcalc.smooth_gaussian(uwnd_700, 12) \n",
    "vwnd_700 = mpcalc.smooth_gaussian(vwnd_700, 12) "
   ]
  },
  {
   "cell_type": "code",
   "execution_count": null,
   "metadata": {},
   "outputs": [],
   "source": [
    "# Compute the Q-vector components\n",
    "uqvect, vqvect = mpcalc.q_vector(uwnd_700, vwnd_700, temp_700, 700*units.hPa)\n",
    "\n",
    "# Compute the divergence of the Q-vectors calculated above\n",
    "q_div = -2*mpcalc.divergence(uqvect, vqvect)\n",
    "\n",
    "## smooth the divergence too\n",
    "q_div = mpcalc.smooth_gaussian(q_div, 18) "
   ]
  },
  {
   "cell_type": "code",
   "execution_count": null,
   "metadata": {},
   "outputs": [],
   "source": [
    "q_div = ndimage.gaussian_filter(q_div, sigma=10, order=0) * units('meter/(kilogram second)')\n",
    "q_div.units"
   ]
  },
  {
   "cell_type": "code",
   "execution_count": null,
   "metadata": {},
   "outputs": [],
   "source": [
    "#Map Creation\n",
    "\n",
    "# Set Projection of Data\n",
    "datacrs = ccrs.PlateCarree()\n",
    "\n",
    "# Set Projection of Plot\n",
    "plotcrs = ccrs.LambertConformal(central_latitude=45, central_longitude=-100)\n",
    "\n",
    "fig = plt.figure(1, figsize=(20,16))\n",
    "gs = gridspec.GridSpec(2, 1, height_ratios=[1, .02], bottom=.07, top=.99,\n",
    "                       hspace=0.01, wspace=0.01)\n",
    "ax = plt.subplot(gs[0], projection=plotcrs)\n",
    "\n",
    "# Plot Titles\n",
    "plt.title('GFS analysis 700-hPa Geo. Heights (m), Temp (C),'\n",
    "          ' Q-Vectors (m$^2$ kg$^{-1}$ s$^{-1}$) and Q-Vec Div. (*10$^{18}$ m s$^{-1}$ kg$^{-1}$)', \n",
    "          loc='left', fontsize=16)\n",
    "plt.title(vtime.strftime(\"%H%M UTC %d %b %Y\"), loc='right', fontsize=18)\n",
    "\n",
    "# Plot Background\n",
    "#ax.set_extent([217.5, 290., 18., 66.])\n",
    "ax.set_extent([227.5, 290., 20., 56.])\n",
    "ax.coastlines('50m', edgecolor='black', linewidth=0.75)\n",
    "ax.add_feature(cfeature.STATES, linewidth=.5)\n",
    "\n",
    "# Plot Height Contours\n",
    "clev700 = np.arange(1800, 4500, 30)\n",
    "cs = ax.contour(lon, lat, hght_700, clev700, colors='black', linewidths=1.0,\n",
    "                linestyles='solid', transform=ccrs.PlateCarree())\n",
    "plt.clabel(cs, fontsize=10, inline=1, inline_spacing=10, fmt='%i',\n",
    "           rightside_up=True, use_clabeltext=True)\n",
    "\n",
    "# Plot temperature Contours\n",
    "clevtemp700 = np.arange(-40, 20, 2)\n",
    "cs2 = ax.contour(lon, lat, temp_700.metpy.convert_units('degC'), clevtemp700, colors='grey',\n",
    "                 linewidths=1.25, linestyles='dashed', transform=ccrs.PlateCarree())\n",
    "plt.clabel(cs2, fontsize=10, inline=1, inline_spacing=10, fmt='%i',\n",
    "           rightside_up=True, use_clabeltext=True)\n",
    "\n",
    "# Plot 850-hPa Q-Vector Divergence and scale\n",
    "clevs_qdiv = list(range(-30, -4, 5))+list(range(5, 31, 5))\n",
    "cf = ax.contourf(lon, lat, q_div*1e18, clevs_qdiv, extend='both',\n",
    "                 cmap='bwr', transform=ccrs.PlateCarree())\n",
    "cb = plt.colorbar(cf, orientation='horizontal', ticks=clevs_qdiv, shrink=0.9, pad=0.02, aspect=35)\n",
    "cb.set_label('Q-Vector Div. (*10$^{18}$ m s$^{-1}$ kg$^{-1}$)')\n",
    "\n",
    "# Plot 700-hPa Q-vectors, scale to get nice sized arrows. Skip every 5th point when plotting.\n",
    "ax.quiver(lon[::5],lat[::5],uqvect[::5,::5].values,vqvect[::5,::5].values,\n",
    "          pivot='mid', color='black',\n",
    "          scale=1e-11, scale_units='inches',\n",
    "          transform=ccrs.PlateCarree())\n",
    "\n",
    "### uncomment these if you'd like to save a file\n",
    "#outfile=\"700qvect_gfs_\"+vtime.strftime('%Y%m%d')+\"_\"+vtime.strftime('%H%M')+\".png\"\n",
    "#fig.savefig(outfile, dpi=255, bbox_inches='tight', transparent=False, facecolor='white')\n",
    "\n",
    "plt.show()   ### show in the notebook\n",
    "\n",
    "plt.close('all')"
   ]
  }
 ],
 "metadata": {
  "kernelspec": {
   "display_name": "Python 3 (ipykernel)",
   "language": "python",
   "name": "python3"
  },
  "language_info": {
   "codemirror_mode": {
    "name": "ipython",
    "version": 3
   },
   "file_extension": ".py",
   "mimetype": "text/x-python",
   "name": "python",
   "nbconvert_exporter": "python",
   "pygments_lexer": "ipython3",
   "version": "3.8.12"
  }
 },
 "nbformat": 4,
 "nbformat_minor": 4
}
