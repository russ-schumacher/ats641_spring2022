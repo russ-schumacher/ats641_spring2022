{
 "cells": [
  {
   "cell_type": "code",
   "execution_count": null,
   "metadata": {},
   "outputs": [],
   "source": [
    "%matplotlib inline"
   ]
  },
  {
   "cell_type": "markdown",
   "metadata": {},
   "source": [
    "\n",
    "# Station Plot\n",
    "\n",
    "Make a station plot, complete with sky cover and weather symbols.\n",
    "\n",
    "Notebook adapted from: https://unidata.github.io/MetPy/latest/examples/plots/Station_Plot.html\n"
   ]
  },
  {
   "cell_type": "code",
   "execution_count": null,
   "metadata": {},
   "outputs": [],
   "source": [
    "import cartopy.crs as ccrs\n",
    "import cartopy.feature as cfeature\n",
    "import matplotlib.pyplot as plt\n",
    "import pandas as pd\n",
    "\n",
    "from metpy.calc import reduce_point_density\n",
    "from metpy.cbook import get_test_data\n",
    "from metpy.io import metar\n",
    "from metpy.plots import add_metpy_logo, current_weather, sky_cover, StationPlot"
   ]
  },
  {
   "cell_type": "markdown",
   "metadata": {},
   "source": [
    "## The setup\n",
    "\n",
    "First read in the data. We use the metar reader because it simplifies a lot of tasks,\n",
    "like dealing with separating text and assembling a pandas dataframe\n",
    "https://thredds-test.unidata.ucar.edu/thredds/catalog/noaaport/text/metar/catalog.html\n",
    "\n",
    "We are building an archive of these files (goes back to mid-May 2021), which I'll point you to if you want to access different dates/times. (Or there are other sources for older files with surface data.)\n",
    "\n"
   ]
  },
  {
   "cell_type": "code",
   "execution_count": null,
   "metadata": {},
   "outputs": [],
   "source": [
    "## define the time we're plotting\n",
    "datetime = pd.Timestamp(2021, 12, 11, 3)  ## year, month, day, hour, (minute, second)"
   ]
  },
  {
   "cell_type": "code",
   "execution_count": null,
   "metadata": {},
   "outputs": [],
   "source": [
    "#data = metar.parse_metar_file('metar_20211211_0300.txt')\n",
    "data = metar.parse_metar_file(\"metar_\"+datetime.strftime(\"%Y%m%d_%H%M\")+\".txt\")\n",
    "\n",
    "# Drop rows with missing winds\n",
    "data = data.dropna(how='any', subset=['wind_direction', 'wind_speed'])"
   ]
  },
  {
   "cell_type": "markdown",
   "metadata": {},
   "source": [
    "Now we have the METAR data in a much nicer format (a pandas dataframe):"
   ]
  },
  {
   "cell_type": "code",
   "execution_count": null,
   "metadata": {},
   "outputs": [],
   "source": [
    "data"
   ]
  },
  {
   "cell_type": "markdown",
   "metadata": {},
   "source": [
    "This sample data has *way* too many stations to plot all of them. The number\n",
    "of stations plotted will be reduced using `reduce_point_density`.\n",
    "\n"
   ]
  },
  {
   "cell_type": "code",
   "execution_count": null,
   "metadata": {},
   "outputs": [],
   "source": [
    "# Set up the map projection\n",
    "proj = ccrs.LambertConformal(central_longitude=-95, central_latitude=35,\n",
    "                             standard_parallels=[35])\n",
    "\n",
    "# Use the Cartopy map projection to transform station locations to the map and\n",
    "# then refine the number of stations plotted by setting a 150km radius\n",
    "point_locs = proj.transform_points(ccrs.PlateCarree(), data['longitude'].values,\n",
    "                                   data['latitude'].values)\n",
    "data = data[reduce_point_density(point_locs, 200000.)]"
   ]
  },
  {
   "cell_type": "markdown",
   "metadata": {},
   "source": [
    "## The payoff\n",
    "\n"
   ]
  },
  {
   "cell_type": "code",
   "execution_count": null,
   "metadata": {
    "scrolled": false
   },
   "outputs": [],
   "source": [
    "# Change the DPI of the resulting figure. Higher DPI drastically improves the\n",
    "# look of the text rendering.\n",
    "plt.rcParams['savefig.dpi'] = 255\n",
    "\n",
    "# Create the figure and an axes set to the projection.\n",
    "fig = plt.figure(figsize=(20, 10))\n",
    "#add_metpy_logo(fig, 1100, 300, size='large')\n",
    "ax = fig.add_subplot(1, 1, 1, projection=proj)\n",
    "\n",
    "# Add some various map elements to the plot to make it recognizable.\n",
    "#ax.add_feature(cfeature.LAND)\n",
    "#ax.add_feature(cfeature.OCEAN)\n",
    "#ax.add_feature(cfeature.LAKES)\n",
    "ax.add_feature(cfeature.COASTLINE)\n",
    "ax.add_feature(cfeature.STATES)\n",
    "ax.add_feature(cfeature.BORDERS)\n",
    "\n",
    "# Set plot bounds\n",
    "#ax.set_extent((-118, -73, 23, 50))\n",
    "ax.set_extent((-108,-73, 23, 50))\n",
    "\n",
    "#\n",
    "# Here's the actual station plot\n",
    "#\n",
    "\n",
    "# Start the station plot by specifying the axes to draw on, as well as the\n",
    "# lon/lat of the stations (with transform). We also the fontsize to 12 pt.\n",
    "stationplot = StationPlot(ax, data['longitude'].values, data['latitude'].values,\n",
    "                          clip_on=True, transform=ccrs.PlateCarree(), fontsize=10)\n",
    "\n",
    "# Plot the temperature and dew point to the upper and lower left, respectively, of\n",
    "# the center point. Each one uses a different color.\n",
    "stationplot.plot_parameter('NW', data['air_temperature'].values, color='red')\n",
    "stationplot.plot_parameter('SW', data['dew_point_temperature'].values,\n",
    "                           color='darkgreen')\n",
    "\n",
    "# A more complex example uses a custom formatter to control how the sea-level pressure\n",
    "# values are plotted. This uses the standard trailing 3-digits of the pressure value\n",
    "# in tenths of millibars.\n",
    "stationplot.plot_parameter('NE', data['air_pressure_at_sea_level'].values,\n",
    "                           formatter=lambda v: format(10 * v, '.0f')[-3:])\n",
    "\n",
    "# Plot the cloud cover symbols in the center location. This uses the codes made above and\n",
    "# uses the `sky_cover` mapper to convert these values to font codes for the\n",
    "# weather symbol font.\n",
    "stationplot.plot_symbol('C', data['cloud_coverage'].values, sky_cover)\n",
    "\n",
    "# Same this time, but plot current weather to the left of center, using the\n",
    "# `current_weather` mapper to convert symbols to the right glyphs.\n",
    "stationplot.plot_symbol('W', data['current_wx1_symbol'].values, current_weather)\n",
    "\n",
    "# Add wind barbs\n",
    "stationplot.plot_barb(data['eastward_wind'].values, data['northward_wind'].values,\n",
    "                     length=6)\n",
    "\n",
    "# Also plot the actual text of the station id. Instead of cardinal directions,\n",
    "# plot further out by specifying a location of 2 increments in x and 0 in y.\n",
    "stationplot.plot_text((1.5, -1), data['station_id'].values, fontsize=8, color='dimgray')\n",
    "\n",
    "plt.title('METAR observations', loc='left')\n",
    "plt.title(datetime.strftime(\"%H%M UTC %d %b %Y\"), loc='right')\n",
    "\n",
    "plt.show()"
   ]
  },
  {
   "cell_type": "code",
   "execution_count": null,
   "metadata": {},
   "outputs": [],
   "source": [
    "### if you want to save your file, use code like this (you can use a better filename if you like)\n",
    "fig.savefig(\"sfc_test.png\", bbox_inches='tight', facecolor='white', transparent=False)"
   ]
  },
  {
   "cell_type": "code",
   "execution_count": null,
   "metadata": {},
   "outputs": [],
   "source": []
  }
 ],
 "metadata": {
  "kernelspec": {
   "display_name": "Python 3 (ipykernel)",
   "language": "python",
   "name": "python3"
  },
  "language_info": {
   "codemirror_mode": {
    "name": "ipython",
    "version": 3
   },
   "file_extension": ".py",
   "mimetype": "text/x-python",
   "name": "python",
   "nbconvert_exporter": "python",
   "pygments_lexer": "ipython3",
   "version": "3.8.12"
  }
 },
 "nbformat": 4,
 "nbformat_minor": 1
}
